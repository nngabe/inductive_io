{
 "cells": [
  {
   "cell_type": "code",
   "execution_count": null,
   "metadata": {},
   "outputs": [],
   "source": [
    "import warnings\n",
    "warnings.filterwarnings('ignore')\n",
    "import os\n",
    "import pandas as pd\n",
    "import multiprocessing as mp\n",
    "import numpy as np\n",
    "import matplotlib.pyplot as plt\n",
    "import matplotlib\n",
    "import glob\n",
    "import networkx as nx\n",
    "import gc\n",
    "from cutils import *\n",
    "\n",
    "\n",
    "matplotlib.rcParams['figure.figsize'] = [13,11]\n",
    "plt.rcParams.update({\n",
    "    \"text.usetex\": True,\n",
    "    \"font.family\": \"sans-serif\",\n",
    "    \"font.sans-serif\": [\"Computer Modern Sans Serif\"]})"
   ]
  },
  {
   "cell_type": "code",
   "execution_count": null,
   "metadata": {},
   "outputs": [],
   "source": [
    "#%load_ext Cython"
   ]
  },
  {
   "cell_type": "code",
   "execution_count": null,
   "metadata": {},
   "outputs": [],
   "source": [
    "#%%cython -c=-O3 -c=-funroll-loops -c=-ffast-math\n",
    "cimport cython\n",
    "cimport numpy as np\n",
    "import numpy as np\n",
    "\n",
    "cpdef int[:] cython_where(int[:] data, int val):\n",
    "    #assert data.dtype == DTYPE1\n",
    "\n",
    "    cdef int xmax = data.shape[0]\n",
    "    cdef int i\n",
    "    cdef int count = 0\n",
    "    cdef int[::1] xind = np.zeros(xmax,dtype=np.int32)\n",
    "    for i in range(xmax):\n",
    "        if(data[i] == val):\n",
    "            xind[count] = i\n",
    "            count += 1\n",
    "    return xind[0:count]\n",
    "\n",
    "cpdef int[:,::1] calculate_C(int num_uids, int[:,:] d, int tmax):\n",
    "\n",
    "    cdef int p = num_uids \n",
    "    cdef int[:,::1] C = np.zeros((p,p),dtype=np.int32)\n",
    "    cdef int[::1] n = np.unique(d[:,1])\n",
    "    cdef int u,m,i,j\n",
    "    cdef int[:] di,dj\n",
    "    cdef int delta\n",
    "    cdef int[:] idx\n",
    "    for u in n:\n",
    "        idx = cython_where(d[:,1],u)\n",
    "        m = idx.shape[0]\n",
    "        for i in range(m):\n",
    "            di = d[idx[i]]\n",
    "            for j in range(i,m):\n",
    "                dj = d[idx[j]]\n",
    "                if di[0]==dj[0]:\n",
    "                    continue\n",
    "                delta = di[2] - dj[2]\n",
    "                if abs(delta)<tmax:\n",
    "                    if delta>0:\n",
    "                        C[dj[0],di[0]] += 1\n",
    "                    else:\n",
    "                        C[di[0],dj[0]] += 1\n",
    "    return C"
   ]
  },
  {
   "cell_type": "code",
   "execution_count": null,
   "metadata": {},
   "outputs": [],
   "source": [
    "num_uids = np.int32(4352)\n",
    "d = pd.read_csv('d.csv',index_col=0).to_numpy(dtype=np.int32)\n",
    "uids = pd.read_csv('uids.csv',index_col=0).to_numpy()"
   ]
  },
  {
   "cell_type": "code",
   "execution_count": null,
   "metadata": {},
   "outputs": [],
   "source": [
    "def C_batch(d,num_uids,M,cmap):\n",
    "    num_uids = np.int32(num_uids)\n",
    "    k = d.shape[0]-1\n",
    "    ds = [d[np.where(np.logical_and(d[:,1]>=d[k*i//M,1],d[:,1]<d[(k*(i+1))//M,1]))] for i in range(M)]\n",
    "    \n",
    "    pool = mp.Pool(M)\n",
    "    res = pool.map(cmap,ds)\n",
    "    \n",
    "    return res"
   ]
  },
  {
   "cell_type": "code",
   "execution_count": null,
   "metadata": {},
   "outputs": [],
   "source": [
    "#%%time \n",
    "M = 16\n",
    "T = [i for i in range(46,100)]\n",
    "for t in T:\n",
    "    print(f't={t}...',end='')\n",
    "    def cmap(df): return np.array(calculate_C(num_uids,df,t))\n",
    "    Cb = C_batch(d,num_uids,M,cmap)\n",
    "    C = pd.DataFrame(np.array(Cb,dtype=np.int32).sum(0),index=uids,columns=uids)\n",
    "    C.to_csv(f'cotweets_T{t}.csv')\n",
    "    print(' Done.')\n",
    "    del C\n",
    "    del Cb\n",
    "    gc.collect()"
   ]
  }
 ],
 "metadata": {
  "kernelspec": {
   "display_name": "Python 3",
   "language": "python",
   "name": "python3"
  },
  "language_info": {
   "codemirror_mode": {
    "name": "ipython",
    "version": 3
   },
   "file_extension": ".py",
   "mimetype": "text/x-python",
   "name": "python",
   "nbconvert_exporter": "python",
   "pygments_lexer": "ipython3",
   "version": "3.8.5"
  }
 },
 "nbformat": 4,
 "nbformat_minor": 5
}
